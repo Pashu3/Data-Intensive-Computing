{
 "cells": [
  {
   "cell_type": "code",
   "execution_count": null,
   "id": "9b4e51ec",
   "metadata": {},
   "outputs": [],
   "source": [
    "import pandas as pd\n",
    "import numpy as np\n",
    "import matplotlib.pyplot as plt\n",
    "import seaborn as sn"
   ]
  },
  {
   "cell_type": "code",
   "execution_count": null,
   "id": "462cad24",
   "metadata": {},
   "outputs": [],
   "source": [
    "data = pd.read_csv('transaction_dataset.csv')\n",
    "data.head()"
   ]
  },
  {
   "cell_type": "code",
   "execution_count": null,
   "id": "dc08de07",
   "metadata": {},
   "outputs": [],
   "source": [
    "data.shape"
   ]
  },
  {
   "cell_type": "code",
   "execution_count": null,
   "id": "4c6e2035",
   "metadata": {},
   "outputs": [],
   "source": [
    "data.dtypes"
   ]
  },
  {
   "cell_type": "code",
   "execution_count": null,
   "id": "a11ffb23",
   "metadata": {},
   "outputs": [],
   "source": [
    "data.info()"
   ]
  },
  {
   "cell_type": "markdown",
   "id": "3f0dfd2d",
   "metadata": {},
   "source": [
    "#### Descriptive Statistics"
   ]
  },
  {
   "cell_type": "code",
   "execution_count": null,
   "id": "ae864d62",
   "metadata": {},
   "outputs": [],
   "source": [
    "data.describe()"
   ]
  },
  {
   "cell_type": "code",
   "execution_count": null,
   "id": "451c17f1",
   "metadata": {},
   "outputs": [],
   "source": [
    "data.columns"
   ]
  },
  {
   "cell_type": "code",
   "execution_count": null,
   "id": "c16f58da",
   "metadata": {},
   "outputs": [],
   "source": [
    "data.isna()"
   ]
  },
  {
   "cell_type": "code",
   "execution_count": null,
   "id": "921a717a",
   "metadata": {},
   "outputs": [],
   "source": [
    "data.isna().sum()"
   ]
  },
  {
   "cell_type": "code",
   "execution_count": null,
   "id": "da44dcd6",
   "metadata": {},
   "outputs": [],
   "source": [
    "data.isnull().mean()"
   ]
  },
  {
   "cell_type": "markdown",
   "id": "e3503b28",
   "metadata": {},
   "source": [
    "#### Handling missing values"
   ]
  },
  {
   "cell_type": "markdown",
   "id": "b7621417",
   "metadata": {},
   "source": [
    "#### Handling missing values using Median"
   ]
  },
  {
   "cell_type": "code",
   "execution_count": null,
   "id": "875692c3",
   "metadata": {},
   "outputs": [],
   "source": [
    "def impute_nan(data,variable,median):\n",
    "    data[variable+\"_median\"]=data[variable].fillna(median)"
   ]
  },
  {
   "cell_type": "code",
   "execution_count": null,
   "id": "ac4da5dc",
   "metadata": {},
   "outputs": [],
   "source": [
    "median = data[\" Total ERC20 tnxs\"].median()\n",
    "median"
   ]
  },
  {
   "cell_type": "code",
   "execution_count": null,
   "id": "ad5f5553",
   "metadata": {},
   "outputs": [],
   "source": [
    "impute_nan(data,\" Total ERC20 tnxs\",median)"
   ]
  },
  {
   "cell_type": "code",
   "execution_count": null,
   "id": "3b3b8b59",
   "metadata": {},
   "outputs": [],
   "source": [
    "def impute_nan(data,variable,mean):\n",
    "    data[variable+\"_mean\"]=data[variable].fillna(mean)"
   ]
  },
  {
   "cell_type": "code",
   "execution_count": null,
   "id": "9c79317a",
   "metadata": {},
   "outputs": [],
   "source": [
    "mean = data[\" Total ERC20 tnxs\"].mean()\n",
    "mean"
   ]
  },
  {
   "cell_type": "code",
   "execution_count": null,
   "id": "9361ee21",
   "metadata": {},
   "outputs": [],
   "source": [
    "impute_nan(data,\" Total ERC20 tnxs\",mean)"
   ]
  },
  {
   "cell_type": "code",
   "execution_count": null,
   "id": "ad3e05fa",
   "metadata": {},
   "outputs": [],
   "source": [
    "import matplotlib.pyplot as plt\n",
    "%matplotlib inline"
   ]
  },
  {
   "cell_type": "code",
   "execution_count": null,
   "id": "ede79cb1",
   "metadata": {},
   "outputs": [],
   "source": [
    "fig = plt.figure()\n",
    "ax = fig.add_subplot(111)\n",
    "#data[' Total ERC20 tnxs'].plot(kind='kde', ax=ax)\n",
    "data[\" Total ERC20 tnxs_median\"].plot(kind='kde', ax=ax, color='red')\n",
    "data[\" Total ERC20 tnxs_mean\"].plot(kind='kde', ax=ax, color='green')\n",
    "lines, labels = ax.get_legend_handles_labels()\n",
    "ax.legend(lines, labels, loc='best')"
   ]
  },
  {
   "cell_type": "code",
   "execution_count": null,
   "id": "3e4e4741",
   "metadata": {},
   "outputs": [],
   "source": [
    "duplicate_cols = data.columns[data.columns.duplicated()]\n",
    "duplicate_cols"
   ]
  },
  {
   "cell_type": "code",
   "execution_count": null,
   "id": "e928237d",
   "metadata": {},
   "outputs": [],
   "source": [
    "data.duplicated().any()"
   ]
  },
  {
   "cell_type": "code",
   "execution_count": null,
   "id": "6fddff2b",
   "metadata": {},
   "outputs": [],
   "source": [
    "data.var()"
   ]
  },
  {
   "cell_type": "code",
   "execution_count": null,
   "id": "7afe8cbf",
   "metadata": {},
   "outputs": [],
   "source": [
    "# Dropping the attributes with variance 0 since they will make the future analysis complex but provide no additional information\n",
    "data = data.drop([' ERC20 avg time between sent tnx', ' ERC20 avg time between rec tnx',' ERC20 avg time between rec 2 tnx',\n",
    "              ' ERC20 avg time between contract tnx',' ERC20 min val sent contract',' ERC20 max val sent contract',\n",
    "              ' ERC20 avg val sent contract'], axis=1)\n",
    "data.shape"
   ]
  },
  {
   "cell_type": "code",
   "execution_count": null,
   "id": "e7e1e19d",
   "metadata": {},
   "outputs": [],
   "source": [
    "# Drop the columns with average values when min and max values are already present in two other different variables\n",
    "data = data.drop(['avg val received', 'avg val sent', 'avg value sent to contract', ' ERC20 avg val rec',' ERC20 avg val sent' ], axis=1)\n",
    "data.shape"
   ]
  },
  {
   "cell_type": "code",
   "execution_count": null,
   "id": "5716424b",
   "metadata": {},
   "outputs": [],
   "source": [
    "# Dropping the Index variable because it's not useful since we already have one\n",
    "data = data.drop([\"Index\"], axis=1)\n",
    "# Dropping the duplicate records\n",
    "data = data.drop_duplicates()\n",
    "# Dropping the Address column because it is an identifier of each Ethereum account, so it gives no additional information to the dataset\n",
    "data = data.drop([\"Address\"], axis=1)"
   ]
  },
  {
   "cell_type": "code",
   "execution_count": null,
   "id": "a289acf2",
   "metadata": {},
   "outputs": [],
   "source": [
    "data.isna().sum()"
   ]
  },
  {
   "cell_type": "code",
   "execution_count": null,
   "id": "2d8664d6",
   "metadata": {},
   "outputs": [],
   "source": []
  }
 ],
 "metadata": {
  "kernelspec": {
   "display_name": "Python 3 (ipykernel)",
   "language": "python",
   "name": "python3"
  },
  "language_info": {
   "codemirror_mode": {
    "name": "ipython",
    "version": 3
   },
   "file_extension": ".py",
   "mimetype": "text/x-python",
   "name": "python",
   "nbconvert_exporter": "python",
   "pygments_lexer": "ipython3",
   "version": "3.9.12"
  }
 },
 "nbformat": 4,
 "nbformat_minor": 5
}
